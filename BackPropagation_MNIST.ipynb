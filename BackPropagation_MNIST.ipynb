{
 "cells": [
  {
   "cell_type": "markdown",
   "id": "2aafd668",
   "metadata": {
    "id": "2aafd668"
   },
   "source": [
    "# **Multi Class Classification Of Hand Written digits**"
   ]
  },
  {
   "cell_type": "markdown",
   "id": "94741208",
   "metadata": {
    "id": "94741208"
   },
   "source": [
    "In MNIST data set we have 10 labels in the response variable i.e. from 0 to 9. So, we have 10 nodes in the output layer since in multiclass classification the number of nodes in output layers is equal to the number of classes. And among them we consider only that class as a output which has highest probability."
   ]
  },
  {
   "cell_type": "code",
   "execution_count": 1,
   "id": "b7e9d802",
   "metadata": {
    "id": "b7e9d802"
   },
   "outputs": [],
   "source": [
    "import numpy as np\n",
    "import pandas as pd"
   ]
  },
  {
   "cell_type": "code",
   "execution_count": 2,
   "id": "6030479a",
   "metadata": {
    "id": "6030479a"
   },
   "outputs": [],
   "source": [
    "import tensorflow\n",
    "from tensorflow import keras\n",
    "from tensorflow.keras import Sequential\n",
    "from tensorflow.keras.layers import Dense, Flatten"
   ]
  },
  {
   "cell_type": "code",
   "execution_count": 3,
   "id": "bbe59f0b",
   "metadata": {
    "colab": {
     "base_uri": "https://localhost:8080/"
    },
    "id": "bbe59f0b",
    "outputId": "3ffbc254-50d9-433d-b36e-f13295596a66"
   },
   "outputs": [
    {
     "name": "stdout",
     "output_type": "stream",
     "text": [
      "Downloading data from https://storage.googleapis.com/tensorflow/tf-keras-datasets/mnist.npz\n",
      "11490434/11490434 [==============================] - 0s 0us/step\n"
     ]
    }
   ],
   "source": [
    "(x_train, y_train),(x_test,y_test) = keras.datasets.mnist.load_data()         # MNIST dataset is already present in the keras which load the data in the form of (x_train, y_train),(x_test,y_test)"
   ]
  },
  {
   "cell_type": "code",
   "execution_count": 4,
   "id": "0faf47ab",
   "metadata": {
    "colab": {
     "base_uri": "https://localhost:8080/"
    },
    "id": "0faf47ab",
    "outputId": "fa78579b-b6ff-432c-edfd-7496690f4486"
   },
   "outputs": [
    {
     "data": {
      "text/plain": [
       "array([[[0, 0, 0, ..., 0, 0, 0],\n",
       "        [0, 0, 0, ..., 0, 0, 0],\n",
       "        [0, 0, 0, ..., 0, 0, 0],\n",
       "        ...,\n",
       "        [0, 0, 0, ..., 0, 0, 0],\n",
       "        [0, 0, 0, ..., 0, 0, 0],\n",
       "        [0, 0, 0, ..., 0, 0, 0]],\n",
       "\n",
       "       [[0, 0, 0, ..., 0, 0, 0],\n",
       "        [0, 0, 0, ..., 0, 0, 0],\n",
       "        [0, 0, 0, ..., 0, 0, 0],\n",
       "        ...,\n",
       "        [0, 0, 0, ..., 0, 0, 0],\n",
       "        [0, 0, 0, ..., 0, 0, 0],\n",
       "        [0, 0, 0, ..., 0, 0, 0]],\n",
       "\n",
       "       [[0, 0, 0, ..., 0, 0, 0],\n",
       "        [0, 0, 0, ..., 0, 0, 0],\n",
       "        [0, 0, 0, ..., 0, 0, 0],\n",
       "        ...,\n",
       "        [0, 0, 0, ..., 0, 0, 0],\n",
       "        [0, 0, 0, ..., 0, 0, 0],\n",
       "        [0, 0, 0, ..., 0, 0, 0]],\n",
       "\n",
       "       ...,\n",
       "\n",
       "       [[0, 0, 0, ..., 0, 0, 0],\n",
       "        [0, 0, 0, ..., 0, 0, 0],\n",
       "        [0, 0, 0, ..., 0, 0, 0],\n",
       "        ...,\n",
       "        [0, 0, 0, ..., 0, 0, 0],\n",
       "        [0, 0, 0, ..., 0, 0, 0],\n",
       "        [0, 0, 0, ..., 0, 0, 0]],\n",
       "\n",
       "       [[0, 0, 0, ..., 0, 0, 0],\n",
       "        [0, 0, 0, ..., 0, 0, 0],\n",
       "        [0, 0, 0, ..., 0, 0, 0],\n",
       "        ...,\n",
       "        [0, 0, 0, ..., 0, 0, 0],\n",
       "        [0, 0, 0, ..., 0, 0, 0],\n",
       "        [0, 0, 0, ..., 0, 0, 0]],\n",
       "\n",
       "       [[0, 0, 0, ..., 0, 0, 0],\n",
       "        [0, 0, 0, ..., 0, 0, 0],\n",
       "        [0, 0, 0, ..., 0, 0, 0],\n",
       "        ...,\n",
       "        [0, 0, 0, ..., 0, 0, 0],\n",
       "        [0, 0, 0, ..., 0, 0, 0],\n",
       "        [0, 0, 0, ..., 0, 0, 0]]], dtype=uint8)"
      ]
     },
     "execution_count": 4,
     "metadata": {},
     "output_type": "execute_result"
    }
   ],
   "source": [
    "x_train"
   ]
  },
  {
   "cell_type": "code",
   "execution_count": 5,
   "id": "0d9a4e44",
   "metadata": {
    "colab": {
     "base_uri": "https://localhost:8080/"
    },
    "id": "0d9a4e44",
    "outputId": "4679f016-1c2a-46be-f18e-f77ed4d74fa7"
   },
   "outputs": [
    {
     "data": {
      "text/plain": [
       "(60000, 28, 28)"
      ]
     },
     "execution_count": 5,
     "metadata": {},
     "output_type": "execute_result"
    }
   ],
   "source": [
    "x_train.shape"
   ]
  },
  {
   "cell_type": "markdown",
   "id": "9062bddf",
   "metadata": {
    "id": "9062bddf"
   },
   "source": [
    "Input training set of MNIST data set contains 60000 images of number from 0 to 9 with 28 pixels * 28 pixels (3D array)"
   ]
  },
  {
   "cell_type": "code",
   "execution_count": 6,
   "id": "5f276b3a",
   "metadata": {
    "colab": {
     "base_uri": "https://localhost:8080/",
     "height": 1000
    },
    "id": "5f276b3a",
    "outputId": "8120e42c-1ed9-4f74-fc6e-a5b433f34333"
   },
   "outputs": [
    {
     "data": {
      "text/html": [
       "<style>\n",
       "      .ndarray_repr .ndarray_raw_data {\n",
       "        display: none;\n",
       "      }\n",
       "      .ndarray_repr.show_array .ndarray_raw_data {\n",
       "        display: block;\n",
       "      }\n",
       "      .ndarray_repr.show_array .ndarray_image_preview {\n",
       "        display: none;\n",
       "      }\n",
       "      </style>\n",
       "      <div id=\"id-9de39d16-a043-43d4-a4ee-b12fcf020b03\" class=\"ndarray_repr\"><pre>ndarray (28, 28) <button style=\"padding: 0 2px;\">show data</button></pre><img src=\"data:image/png;base64,iVBORw0KGgoAAAANSUhEUgAAABwAAAAcCAAAAABXZoBIAAABAElEQVR4nGNgGMyAWUhIqK5jvdSy/9/rGRgYGFhgEnJsVjYCwQwMDAxPJgV+vniQgYGBgREqZ7iXH8r6l/SV4dn7m8gmCt3++/fv37/Htn3/iMW+gDnZf/+e5WbQnoXNNXyMs/5GoQoxwVmf/n9kSGFiwAW49/11wynJoPzx4YIcRlyygR/+/i2XxCWru+vv32nSuGQFYv/83Y3b4p9/fzpAmSyoMnohpiwM1w5h06Q+5enfv39/bcMiJVF09+/fv39P+mFKiTtd/fv3799jgZiBJLT69t+/f/8eDuDEkDJf8+jv379/v7Ryo4qzMDAwMAQGMjBc3/y35wM2V1IfAABFF16Aa0wAOwAAAABJRU5ErkJggg==\" class=\"ndarray_image_preview\" /><pre class=\"ndarray_raw_data\">array([[  0,   0,   0,   0,   0,   0,   0,   0,   0,   0,   0,   0,   0,\n",
       "          0,   0,   0,   0,   0,   0,   0,   0,   0,   0,   0,   0,   0,\n",
       "          0,   0],\n",
       "       [  0,   0,   0,   0,   0,   0,   0,   0,   0,   0,   0,   0,   0,\n",
       "          0,   0,   0,   0,   0,   0,   0,   0,   0,   0,   0,   0,   0,\n",
       "          0,   0],\n",
       "       [  0,   0,   0,   0,   0,   0,   0,   0,   0,   0,   0,   0,   0,\n",
       "          0,   0,   0,   0,   0,   0,   0,   0,   0,   0,   0,   0,   0,\n",
       "          0,   0],\n",
       "       [  0,   0,   0,   0,   0,   0,   0,   0,   0,   0,   0,   0,   0,\n",
       "          0,   0,   0,   0,   0,   0,   0,   0,   0,   0,   0,   0,   0,\n",
       "          0,   0],\n",
       "       [  0,   0,   0,   0,   0,   0,   0,   0,   0,   0,   0,   0,   0,\n",
       "          0,   0,   0,   0,   0,   0,   0,   0,   0,   0,   0,   0,   0,\n",
       "          0,   0],\n",
       "       [  0,   0,   0,   0,   0,   0,   0,   0,   0,   0,   0,   0,   3,\n",
       "         18,  18,  18, 126, 136, 175,  26, 166, 255, 247, 127,   0,   0,\n",
       "          0,   0],\n",
       "       [  0,   0,   0,   0,   0,   0,   0,   0,  30,  36,  94, 154, 170,\n",
       "        253, 253, 253, 253, 253, 225, 172, 253, 242, 195,  64,   0,   0,\n",
       "          0,   0],\n",
       "       [  0,   0,   0,   0,   0,   0,   0,  49, 238, 253, 253, 253, 253,\n",
       "        253, 253, 253, 253, 251,  93,  82,  82,  56,  39,   0,   0,   0,\n",
       "          0,   0],\n",
       "       [  0,   0,   0,   0,   0,   0,   0,  18, 219, 253, 253, 253, 253,\n",
       "        253, 198, 182, 247, 241,   0,   0,   0,   0,   0,   0,   0,   0,\n",
       "          0,   0],\n",
       "       [  0,   0,   0,   0,   0,   0,   0,   0,  80, 156, 107, 253, 253,\n",
       "        205,  11,   0,  43, 154,   0,   0,   0,   0,   0,   0,   0,   0,\n",
       "          0,   0],\n",
       "       [  0,   0,   0,   0,   0,   0,   0,   0,   0,  14,   1, 154, 253,\n",
       "         90,   0,   0,   0,   0,   0,   0,   0,   0,   0,   0,   0,   0,\n",
       "          0,   0],\n",
       "       [  0,   0,   0,   0,   0,   0,   0,   0,   0,   0,   0, 139, 253,\n",
       "        190,   2,   0,   0,   0,   0,   0,   0,   0,   0,   0,   0,   0,\n",
       "          0,   0],\n",
       "       [  0,   0,   0,   0,   0,   0,   0,   0,   0,   0,   0,  11, 190,\n",
       "        253,  70,   0,   0,   0,   0,   0,   0,   0,   0,   0,   0,   0,\n",
       "          0,   0],\n",
       "       [  0,   0,   0,   0,   0,   0,   0,   0,   0,   0,   0,   0,  35,\n",
       "        241, 225, 160, 108,   1,   0,   0,   0,   0,   0,   0,   0,   0,\n",
       "          0,   0],\n",
       "       [  0,   0,   0,   0,   0,   0,   0,   0,   0,   0,   0,   0,   0,\n",
       "         81, 240, 253, 253, 119,  25,   0,   0,   0,   0,   0,   0,   0,\n",
       "          0,   0],\n",
       "       [  0,   0,   0,   0,   0,   0,   0,   0,   0,   0,   0,   0,   0,\n",
       "          0,  45, 186, 253, 253, 150,  27,   0,   0,   0,   0,   0,   0,\n",
       "          0,   0],\n",
       "       [  0,   0,   0,   0,   0,   0,   0,   0,   0,   0,   0,   0,   0,\n",
       "          0,   0,  16,  93, 252, 253, 187,   0,   0,   0,   0,   0,   0,\n",
       "          0,   0],\n",
       "       [  0,   0,   0,   0,   0,   0,   0,   0,   0,   0,   0,   0,   0,\n",
       "          0,   0,   0,   0, 249, 253, 249,  64,   0,   0,   0,   0,   0,\n",
       "          0,   0],\n",
       "       [  0,   0,   0,   0,   0,   0,   0,   0,   0,   0,   0,   0,   0,\n",
       "          0,  46, 130, 183, 253, 253, 207,   2,   0,   0,   0,   0,   0,\n",
       "          0,   0],\n",
       "       [  0,   0,   0,   0,   0,   0,   0,   0,   0,   0,   0,   0,  39,\n",
       "        148, 229, 253, 253, 253, 250, 182,   0,   0,   0,   0,   0,   0,\n",
       "          0,   0],\n",
       "       [  0,   0,   0,   0,   0,   0,   0,   0,   0,   0,  24, 114, 221,\n",
       "        253, 253, 253, 253, 201,  78,   0,   0,   0,   0,   0,   0,   0,\n",
       "          0,   0],\n",
       "       [  0,   0,   0,   0,   0,   0,   0,   0,  23,  66, 213, 253, 253,\n",
       "        253, 253, 198,  81,   2,   0,   0,   0,   0,   0,   0,   0,   0,\n",
       "          0,   0],\n",
       "       [  0,   0,   0,   0,   0,   0,  18, 171, 219, 253, 253, 253, 253,\n",
       "        195,  80,   9,   0,   0,   0,   0,   0,   0,   0,   0,   0,   0,\n",
       "          0,   0],\n",
       "       [  0,   0,   0,   0,  55, 172, 226, 253, 253, 253, 253, 244, 133,\n",
       "         11,   0,   0,   0,   0,   0,   0,   0,   0,   0,   0,   0,   0,\n",
       "          0,   0],\n",
       "       [  0,   0,   0,   0, 136, 253, 253, 253, 212, 135, 132,  16,   0,\n",
       "          0,   0,   0,   0,   0,   0,   0,   0,   0,   0,   0,   0,   0,\n",
       "          0,   0],\n",
       "       [  0,   0,   0,   0,   0,   0,   0,   0,   0,   0,   0,   0,   0,\n",
       "          0,   0,   0,   0,   0,   0,   0,   0,   0,   0,   0,   0,   0,\n",
       "          0,   0],\n",
       "       [  0,   0,   0,   0,   0,   0,   0,   0,   0,   0,   0,   0,   0,\n",
       "          0,   0,   0,   0,   0,   0,   0,   0,   0,   0,   0,   0,   0,\n",
       "          0,   0],\n",
       "       [  0,   0,   0,   0,   0,   0,   0,   0,   0,   0,   0,   0,   0,\n",
       "          0,   0,   0,   0,   0,   0,   0,   0,   0,   0,   0,   0,   0,\n",
       "          0,   0]], dtype=uint8)</pre></div><script>\n",
       "      (() => {\n",
       "      const titles = ['show data', 'hide data'];\n",
       "      let index = 0\n",
       "      document.querySelector('#id-9de39d16-a043-43d4-a4ee-b12fcf020b03 button').onclick = (e) => {\n",
       "        document.querySelector('#id-9de39d16-a043-43d4-a4ee-b12fcf020b03').classList.toggle('show_array');\n",
       "        index = (++index) % 2;\n",
       "        document.querySelector('#id-9de39d16-a043-43d4-a4ee-b12fcf020b03 button').textContent = titles[index];\n",
       "        e.preventDefault();\n",
       "        e.stopPropagation();\n",
       "      }\n",
       "      })();\n",
       "    </script>"
      ],
      "text/plain": [
       "array([[  0,   0,   0,   0,   0,   0,   0,   0,   0,   0,   0,   0,   0,\n",
       "          0,   0,   0,   0,   0,   0,   0,   0,   0,   0,   0,   0,   0,\n",
       "          0,   0],\n",
       "       [  0,   0,   0,   0,   0,   0,   0,   0,   0,   0,   0,   0,   0,\n",
       "          0,   0,   0,   0,   0,   0,   0,   0,   0,   0,   0,   0,   0,\n",
       "          0,   0],\n",
       "       [  0,   0,   0,   0,   0,   0,   0,   0,   0,   0,   0,   0,   0,\n",
       "          0,   0,   0,   0,   0,   0,   0,   0,   0,   0,   0,   0,   0,\n",
       "          0,   0],\n",
       "       [  0,   0,   0,   0,   0,   0,   0,   0,   0,   0,   0,   0,   0,\n",
       "          0,   0,   0,   0,   0,   0,   0,   0,   0,   0,   0,   0,   0,\n",
       "          0,   0],\n",
       "       [  0,   0,   0,   0,   0,   0,   0,   0,   0,   0,   0,   0,   0,\n",
       "          0,   0,   0,   0,   0,   0,   0,   0,   0,   0,   0,   0,   0,\n",
       "          0,   0],\n",
       "       [  0,   0,   0,   0,   0,   0,   0,   0,   0,   0,   0,   0,   3,\n",
       "         18,  18,  18, 126, 136, 175,  26, 166, 255, 247, 127,   0,   0,\n",
       "          0,   0],\n",
       "       [  0,   0,   0,   0,   0,   0,   0,   0,  30,  36,  94, 154, 170,\n",
       "        253, 253, 253, 253, 253, 225, 172, 253, 242, 195,  64,   0,   0,\n",
       "          0,   0],\n",
       "       [  0,   0,   0,   0,   0,   0,   0,  49, 238, 253, 253, 253, 253,\n",
       "        253, 253, 253, 253, 251,  93,  82,  82,  56,  39,   0,   0,   0,\n",
       "          0,   0],\n",
       "       [  0,   0,   0,   0,   0,   0,   0,  18, 219, 253, 253, 253, 253,\n",
       "        253, 198, 182, 247, 241,   0,   0,   0,   0,   0,   0,   0,   0,\n",
       "          0,   0],\n",
       "       [  0,   0,   0,   0,   0,   0,   0,   0,  80, 156, 107, 253, 253,\n",
       "        205,  11,   0,  43, 154,   0,   0,   0,   0,   0,   0,   0,   0,\n",
       "          0,   0],\n",
       "       [  0,   0,   0,   0,   0,   0,   0,   0,   0,  14,   1, 154, 253,\n",
       "         90,   0,   0,   0,   0,   0,   0,   0,   0,   0,   0,   0,   0,\n",
       "          0,   0],\n",
       "       [  0,   0,   0,   0,   0,   0,   0,   0,   0,   0,   0, 139, 253,\n",
       "        190,   2,   0,   0,   0,   0,   0,   0,   0,   0,   0,   0,   0,\n",
       "          0,   0],\n",
       "       [  0,   0,   0,   0,   0,   0,   0,   0,   0,   0,   0,  11, 190,\n",
       "        253,  70,   0,   0,   0,   0,   0,   0,   0,   0,   0,   0,   0,\n",
       "          0,   0],\n",
       "       [  0,   0,   0,   0,   0,   0,   0,   0,   0,   0,   0,   0,  35,\n",
       "        241, 225, 160, 108,   1,   0,   0,   0,   0,   0,   0,   0,   0,\n",
       "          0,   0],\n",
       "       [  0,   0,   0,   0,   0,   0,   0,   0,   0,   0,   0,   0,   0,\n",
       "         81, 240, 253, 253, 119,  25,   0,   0,   0,   0,   0,   0,   0,\n",
       "          0,   0],\n",
       "       [  0,   0,   0,   0,   0,   0,   0,   0,   0,   0,   0,   0,   0,\n",
       "          0,  45, 186, 253, 253, 150,  27,   0,   0,   0,   0,   0,   0,\n",
       "          0,   0],\n",
       "       [  0,   0,   0,   0,   0,   0,   0,   0,   0,   0,   0,   0,   0,\n",
       "          0,   0,  16,  93, 252, 253, 187,   0,   0,   0,   0,   0,   0,\n",
       "          0,   0],\n",
       "       [  0,   0,   0,   0,   0,   0,   0,   0,   0,   0,   0,   0,   0,\n",
       "          0,   0,   0,   0, 249, 253, 249,  64,   0,   0,   0,   0,   0,\n",
       "          0,   0],\n",
       "       [  0,   0,   0,   0,   0,   0,   0,   0,   0,   0,   0,   0,   0,\n",
       "          0,  46, 130, 183, 253, 253, 207,   2,   0,   0,   0,   0,   0,\n",
       "          0,   0],\n",
       "       [  0,   0,   0,   0,   0,   0,   0,   0,   0,   0,   0,   0,  39,\n",
       "        148, 229, 253, 253, 253, 250, 182,   0,   0,   0,   0,   0,   0,\n",
       "          0,   0],\n",
       "       [  0,   0,   0,   0,   0,   0,   0,   0,   0,   0,  24, 114, 221,\n",
       "        253, 253, 253, 253, 201,  78,   0,   0,   0,   0,   0,   0,   0,\n",
       "          0,   0],\n",
       "       [  0,   0,   0,   0,   0,   0,   0,   0,  23,  66, 213, 253, 253,\n",
       "        253, 253, 198,  81,   2,   0,   0,   0,   0,   0,   0,   0,   0,\n",
       "          0,   0],\n",
       "       [  0,   0,   0,   0,   0,   0,  18, 171, 219, 253, 253, 253, 253,\n",
       "        195,  80,   9,   0,   0,   0,   0,   0,   0,   0,   0,   0,   0,\n",
       "          0,   0],\n",
       "       [  0,   0,   0,   0,  55, 172, 226, 253, 253, 253, 253, 244, 133,\n",
       "         11,   0,   0,   0,   0,   0,   0,   0,   0,   0,   0,   0,   0,\n",
       "          0,   0],\n",
       "       [  0,   0,   0,   0, 136, 253, 253, 253, 212, 135, 132,  16,   0,\n",
       "          0,   0,   0,   0,   0,   0,   0,   0,   0,   0,   0,   0,   0,\n",
       "          0,   0],\n",
       "       [  0,   0,   0,   0,   0,   0,   0,   0,   0,   0,   0,   0,   0,\n",
       "          0,   0,   0,   0,   0,   0,   0,   0,   0,   0,   0,   0,   0,\n",
       "          0,   0],\n",
       "       [  0,   0,   0,   0,   0,   0,   0,   0,   0,   0,   0,   0,   0,\n",
       "          0,   0,   0,   0,   0,   0,   0,   0,   0,   0,   0,   0,   0,\n",
       "          0,   0],\n",
       "       [  0,   0,   0,   0,   0,   0,   0,   0,   0,   0,   0,   0,   0,\n",
       "          0,   0,   0,   0,   0,   0,   0,   0,   0,   0,   0,   0,   0,\n",
       "          0,   0]], dtype=uint8)"
      ]
     },
     "execution_count": 6,
     "metadata": {},
     "output_type": "execute_result"
    }
   ],
   "source": [
    "x_train[0]"
   ]
  },
  {
   "cell_type": "markdown",
   "id": "6097cf4c",
   "metadata": {
    "id": "6097cf4c"
   },
   "source": [
    "i.e. pixels value of first image"
   ]
  },
  {
   "cell_type": "code",
   "execution_count": 7,
   "id": "a2d54c60",
   "metadata": {
    "colab": {
     "base_uri": "https://localhost:8080/"
    },
    "id": "a2d54c60",
    "outputId": "70fe22bf-67a3-4ef5-c364-822d8ae6a38d"
   },
   "outputs": [
    {
     "data": {
      "text/plain": [
       "(28, 28)"
      ]
     },
     "execution_count": 7,
     "metadata": {},
     "output_type": "execute_result"
    }
   ],
   "source": [
    "x_train[0].shape"
   ]
  },
  {
   "cell_type": "markdown",
   "id": "c426e1fd",
   "metadata": {
    "id": "c426e1fd"
   },
   "source": [
    "i.e. first image is 2D array with 28*28 pixels"
   ]
  },
  {
   "cell_type": "code",
   "execution_count": 44,
   "id": "e7ddd5ff",
   "metadata": {
    "colab": {
     "base_uri": "https://localhost:8080/",
     "height": 469
    },
    "id": "e7ddd5ff",
    "outputId": "adf30e85-1026-4140-f701-99a41ca8656c"
   },
   "outputs": [
    {
     "data": {
      "text/plain": [
       "Text(0.5, 1.0, 'FIG.01 Image sample')"
      ]
     },
     "execution_count": 44,
     "metadata": {},
     "output_type": "execute_result"
    },
    {
     "data": {
      "image/png": "[encoded data removed]",
      "text/plain": [
       "<Figure size 640x480 with 1 Axes>"
      ]
     },
     "metadata": {},
     "output_type": "display_data"
    }
   ],
   "source": [
    "import matplotlib.pyplot as plt\n",
    "plt.imshow(x_train[0])\n",
    "plt.title('FIG.01 Image sample')"
   ]
  },
  {
   "cell_type": "markdown",
   "id": "d14019c7",
   "metadata": {
    "id": "d14019c7"
   },
   "source": [
    "i.e. first number is 5"
   ]
  },
  {
   "cell_type": "code",
   "execution_count": 9,
   "id": "ed9d761a",
   "metadata": {
    "colab": {
     "base_uri": "https://localhost:8080/"
    },
    "id": "ed9d761a",
    "outputId": "0f463bf3-7619-4225-b9dc-b8cecbd169b5"
   },
   "outputs": [
    {
     "data": {
      "text/plain": [
       "(10000, 28, 28)"
      ]
     },
     "execution_count": 9,
     "metadata": {},
     "output_type": "execute_result"
    }
   ],
   "source": [
    "x_test.shape"
   ]
  },
  {
   "cell_type": "code",
   "execution_count": 10,
   "id": "93e287a2",
   "metadata": {
    "colab": {
     "base_uri": "https://localhost:8080/"
    },
    "id": "93e287a2",
    "outputId": "beb91c5a-ca91-4381-9153-7a7159eeec9d"
   },
   "outputs": [
    {
     "data": {
      "text/plain": [
       "array([5, 0, 4, ..., 5, 6, 8], dtype=uint8)"
      ]
     },
     "execution_count": 10,
     "metadata": {},
     "output_type": "execute_result"
    }
   ],
   "source": [
    "y_train"
   ]
  },
  {
   "cell_type": "markdown",
   "id": "d144348f",
   "metadata": {
    "id": "d144348f"
   },
   "source": [
    "i.e. output of training set of MNIST Data set contains number from 0 to 9"
   ]
  },
  {
   "cell_type": "markdown",
   "id": "d91c2f4b",
   "metadata": {
    "id": "d91c2f4b"
   },
   "source": [
    "pixels value in the array of the first image vary from 0 to 255. So, we divide each pixel with 255 so that each value come in the range of 0 to 1. By doing this, the weights can be assigned easily in the neural network algorithm and we can converge to the solution faster."
   ]
  },
  {
   "cell_type": "code",
   "execution_count": 11,
   "id": "125611e2",
   "metadata": {
    "id": "125611e2"
   },
   "outputs": [],
   "source": [
    "x_train = x_train/255\n",
    "x_test = x_test/255"
   ]
  },
  {
   "cell_type": "code",
   "execution_count": 12,
   "id": "e330efcb",
   "metadata": {
    "colab": {
     "base_uri": "https://localhost:8080/"
    },
    "id": "e330efcb",
    "outputId": "a4ed6bf6-c68d-446c-bf9b-d3bb2824282e"
   },
   "outputs": [
    {
     "data": {
      "text/plain": [
       "array([[0.        , 0.        , 0.        , 0.        , 0.        ,\n",
       "        0.        , 0.        , 0.        , 0.        , 0.        ,\n",
       "        0.        , 0.        , 0.        , 0.        , 0.        ,\n",
       "        0.        , 0.        , 0.        , 0.        , 0.        ,\n",
       "        0.        , 0.        , 0.        , 0.        , 0.        ,\n",
       "        0.        , 0.        , 0.        ],\n",
       "       [0.        , 0.        , 0.        , 0.        , 0.        ,\n",
       "        0.        , 0.        , 0.        , 0.        , 0.        ,\n",
       "        0.        , 0.        , 0.        , 0.        , 0.        ,\n",
       "        0.        , 0.        , 0.        , 0.        , 0.        ,\n",
       "        0.        , 0.        , 0.        , 0.        , 0.        ,\n",
       "        0.        , 0.        , 0.        ],\n",
       "       [0.        , 0.        , 0.        , 0.        , 0.        ,\n",
       "        0.        , 0.        , 0.        , 0.        , 0.        ,\n",
       "        0.        , 0.        , 0.        , 0.        , 0.        ,\n",
       "        0.        , 0.        , 0.        , 0.        , 0.        ,\n",
       "        0.        , 0.        , 0.        , 0.        , 0.        ,\n",
       "        0.        , 0.        , 0.        ],\n",
       "       [0.        , 0.        , 0.        , 0.        , 0.        ,\n",
       "        0.        , 0.        , 0.        , 0.        , 0.        ,\n",
       "        0.        , 0.        , 0.        , 0.        , 0.        ,\n",
       "        0.        , 0.        , 0.        , 0.        , 0.        ,\n",
       "        0.        , 0.        , 0.        , 0.        , 0.        ,\n",
       "        0.        , 0.        , 0.        ],\n",
       "       [0.        , 0.        , 0.        , 0.        , 0.        ,\n",
       "        0.        , 0.        , 0.        , 0.        , 0.        ,\n",
       "        0.        , 0.        , 0.        , 0.        , 0.        ,\n",
       "        0.        , 0.        , 0.        , 0.        , 0.        ,\n",
       "        0.        , 0.        , 0.        , 0.        , 0.        ,\n",
       "        0.        , 0.        , 0.        ],\n",
       "       [0.        , 0.        , 0.        , 0.        , 0.        ,\n",
       "        0.        , 0.        , 0.        , 0.        , 0.        ,\n",
       "        0.        , 0.        , 0.01176471, 0.07058824, 0.07058824,\n",
       "        0.07058824, 0.49411765, 0.53333333, 0.68627451, 0.10196078,\n",
       "        0.65098039, 1.        , 0.96862745, 0.49803922, 0.        ,\n",
       "        0.        , 0.        , 0.        ],\n",
       "       [0.        , 0.        , 0.        , 0.        , 0.        ,\n",
       "        0.        , 0.        , 0.        , 0.11764706, 0.14117647,\n",
       "        0.36862745, 0.60392157, 0.66666667, 0.99215686, 0.99215686,\n",
       "        0.99215686, 0.99215686, 0.99215686, 0.88235294, 0.6745098 ,\n",
       "        0.99215686, 0.94901961, 0.76470588, 0.25098039, 0.        ,\n",
       "        0.        , 0.        , 0.        ],\n",
       "       [0.        , 0.        , 0.        , 0.        , 0.        ,\n",
       "        0.        , 0.        , 0.19215686, 0.93333333, 0.99215686,\n",
       "        0.99215686, 0.99215686, 0.99215686, 0.99215686, 0.99215686,\n",
       "        0.99215686, 0.99215686, 0.98431373, 0.36470588, 0.32156863,\n",
       "        0.32156863, 0.21960784, 0.15294118, 0.        , 0.        ,\n",
       "        0.        , 0.        , 0.        ],\n",
       "       [0.        , 0.        , 0.        , 0.        , 0.        ,\n",
       "        0.        , 0.        , 0.07058824, 0.85882353, 0.99215686,\n",
       "        0.99215686, 0.99215686, 0.99215686, 0.99215686, 0.77647059,\n",
       "        0.71372549, 0.96862745, 0.94509804, 0.        , 0.        ,\n",
       "        0.        , 0.        , 0.        , 0.        , 0.        ,\n",
       "        0.        , 0.        , 0.        ],\n",
       "       [0.        , 0.        , 0.        , 0.        , 0.        ,\n",
       "        0.        , 0.        , 0.        , 0.31372549, 0.61176471,\n",
       "        0.41960784, 0.99215686, 0.99215686, 0.80392157, 0.04313725,\n",
       "        0.        , 0.16862745, 0.60392157, 0.        , 0.        ,\n",
       "        0.        , 0.        , 0.        , 0.        , 0.        ,\n",
       "        0.        , 0.        , 0.        ],\n",
       "       [0.        , 0.        , 0.        , 0.        , 0.        ,\n",
       "        0.        , 0.        , 0.        , 0.        , 0.05490196,\n",
       "        0.00392157, 0.60392157, 0.99215686, 0.35294118, 0.        ,\n",
       "        0.        , 0.        , 0.        , 0.        , 0.        ,\n",
       "        0.        , 0.        , 0.        , 0.        , 0.        ,\n",
       "        0.        , 0.        , 0.        ],\n",
       "       [0.        , 0.        , 0.        , 0.        , 0.        ,\n",
       "        0.        , 0.        , 0.        , 0.        , 0.        ,\n",
       "        0.        , 0.54509804, 0.99215686, 0.74509804, 0.00784314,\n",
       "        0.        , 0.        , 0.        , 0.        , 0.        ,\n",
       "        0.        , 0.        , 0.        , 0.        , 0.        ,\n",
       "        0.        , 0.        , 0.        ],\n",
       "       [0.        , 0.        , 0.        , 0.        , 0.        ,\n",
       "        0.        , 0.        , 0.        , 0.        , 0.        ,\n",
       "        0.        , 0.04313725, 0.74509804, 0.99215686, 0.2745098 ,\n",
       "        0.        , 0.        , 0.        , 0.        , 0.        ,\n",
       "        0.        , 0.        , 0.        , 0.        , 0.        ,\n",
       "        0.        , 0.        , 0.        ],\n",
       "       [0.        , 0.        , 0.        , 0.        , 0.        ,\n",
       "        0.        , 0.        , 0.        , 0.        , 0.        ,\n",
       "        0.        , 0.        , 0.1372549 , 0.94509804, 0.88235294,\n",
       "        0.62745098, 0.42352941, 0.00392157, 0.        , 0.        ,\n",
       "        0.        , 0.        , 0.        , 0.        , 0.        ,\n",
       "        0.        , 0.        , 0.        ],\n",
       "       [0.        , 0.        , 0.        , 0.        , 0.        ,\n",
       "        0.        , 0.        , 0.        , 0.        , 0.        ,\n",
       "        0.        , 0.        , 0.        , 0.31764706, 0.94117647,\n",
       "        0.99215686, 0.99215686, 0.46666667, 0.09803922, 0.        ,\n",
       "        0.        , 0.        , 0.        , 0.        , 0.        ,\n",
       "        0.        , 0.        , 0.        ],\n",
       "       [0.        , 0.        , 0.        , 0.        , 0.        ,\n",
       "        0.        , 0.        , 0.        , 0.        , 0.        ,\n",
       "        0.        , 0.        , 0.        , 0.        , 0.17647059,\n",
       "        0.72941176, 0.99215686, 0.99215686, 0.58823529, 0.10588235,\n",
       "        0.        , 0.        , 0.        , 0.        , 0.        ,\n",
       "        0.        , 0.        , 0.        ],\n",
       "       [0.        , 0.        , 0.        , 0.        , 0.        ,\n",
       "        0.        , 0.        , 0.        , 0.        , 0.        ,\n",
       "        0.        , 0.        , 0.        , 0.        , 0.        ,\n",
       "        0.0627451 , 0.36470588, 0.98823529, 0.99215686, 0.73333333,\n",
       "        0.        , 0.        , 0.        , 0.        , 0.        ,\n",
       "        0.        , 0.        , 0.        ],\n",
       "       [0.        , 0.        , 0.        , 0.        , 0.        ,\n",
       "        0.        , 0.        , 0.        , 0.        , 0.        ,\n",
       "        0.        , 0.        , 0.        , 0.        , 0.        ,\n",
       "        0.        , 0.        , 0.97647059, 0.99215686, 0.97647059,\n",
       "        0.25098039, 0.        , 0.        , 0.        , 0.        ,\n",
       "        0.        , 0.        , 0.        ],\n",
       "       [0.        , 0.        , 0.        , 0.        , 0.        ,\n",
       "        0.        , 0.        , 0.        , 0.        , 0.        ,\n",
       "        0.        , 0.        , 0.        , 0.        , 0.18039216,\n",
       "        0.50980392, 0.71764706, 0.99215686, 0.99215686, 0.81176471,\n",
       "        0.00784314, 0.        , 0.        , 0.        , 0.        ,\n",
       "        0.        , 0.        , 0.        ],\n",
       "       [0.        , 0.        , 0.        , 0.        , 0.        ,\n",
       "        0.        , 0.        , 0.        , 0.        , 0.        ,\n",
       "        0.        , 0.        , 0.15294118, 0.58039216, 0.89803922,\n",
       "        0.99215686, 0.99215686, 0.99215686, 0.98039216, 0.71372549,\n",
       "        0.        , 0.        , 0.        , 0.        , 0.        ,\n",
       "        0.        , 0.        , 0.        ],\n",
       "       [0.        , 0.        , 0.        , 0.        , 0.        ,\n",
       "        0.        , 0.        , 0.        , 0.        , 0.        ,\n",
       "        0.09411765, 0.44705882, 0.86666667, 0.99215686, 0.99215686,\n",
       "        0.99215686, 0.99215686, 0.78823529, 0.30588235, 0.        ,\n",
       "        0.        , 0.        , 0.        , 0.        , 0.        ,\n",
       "        0.        , 0.        , 0.        ],\n",
       "       [0.        , 0.        , 0.        , 0.        , 0.        ,\n",
       "        0.        , 0.        , 0.        , 0.09019608, 0.25882353,\n",
       "        0.83529412, 0.99215686, 0.99215686, 0.99215686, 0.99215686,\n",
       "        0.77647059, 0.31764706, 0.00784314, 0.        , 0.        ,\n",
       "        0.        , 0.        , 0.        , 0.        , 0.        ,\n",
       "        0.        , 0.        , 0.        ],\n",
       "       [0.        , 0.        , 0.        , 0.        , 0.        ,\n",
       "        0.        , 0.07058824, 0.67058824, 0.85882353, 0.99215686,\n",
       "        0.99215686, 0.99215686, 0.99215686, 0.76470588, 0.31372549,\n",
       "        0.03529412, 0.        , 0.        , 0.        , 0.        ,\n",
       "        0.        , 0.        , 0.        , 0.        , 0.        ,\n",
       "        0.        , 0.        , 0.        ],\n",
       "       [0.        , 0.        , 0.        , 0.        , 0.21568627,\n",
       "        0.6745098 , 0.88627451, 0.99215686, 0.99215686, 0.99215686,\n",
       "        0.99215686, 0.95686275, 0.52156863, 0.04313725, 0.        ,\n",
       "        0.        , 0.        , 0.        , 0.        , 0.        ,\n",
       "        0.        , 0.        , 0.        , 0.        , 0.        ,\n",
       "        0.        , 0.        , 0.        ],\n",
       "       [0.        , 0.        , 0.        , 0.        , 0.53333333,\n",
       "        0.99215686, 0.99215686, 0.99215686, 0.83137255, 0.52941176,\n",
       "        0.51764706, 0.0627451 , 0.        , 0.        , 0.        ,\n",
       "        0.        , 0.        , 0.        , 0.        , 0.        ,\n",
       "        0.        , 0.        , 0.        , 0.        , 0.        ,\n",
       "        0.        , 0.        , 0.        ],\n",
       "       [0.        , 0.        , 0.        , 0.        , 0.        ,\n",
       "        0.        , 0.        , 0.        , 0.        , 0.        ,\n",
       "        0.        , 0.        , 0.        , 0.        , 0.        ,\n",
       "        0.        , 0.        , 0.        , 0.        , 0.        ,\n",
       "        0.        , 0.        , 0.        , 0.        , 0.        ,\n",
       "        0.        , 0.        , 0.        ],\n",
       "       [0.        , 0.        , 0.        , 0.        , 0.        ,\n",
       "        0.        , 0.        , 0.        , 0.        , 0.        ,\n",
       "        0.        , 0.        , 0.        , 0.        , 0.        ,\n",
       "        0.        , 0.        , 0.        , 0.        , 0.        ,\n",
       "        0.        , 0.        , 0.        , 0.        , 0.        ,\n",
       "        0.        , 0.        , 0.        ],\n",
       "       [0.        , 0.        , 0.        , 0.        , 0.        ,\n",
       "        0.        , 0.        , 0.        , 0.        , 0.        ,\n",
       "        0.        , 0.        , 0.        , 0.        , 0.        ,\n",
       "        0.        , 0.        , 0.        , 0.        , 0.        ,\n",
       "        0.        , 0.        , 0.        , 0.        , 0.        ,\n",
       "        0.        , 0.        , 0.        ]])"
      ]
     },
     "execution_count": 12,
     "metadata": {},
     "output_type": "execute_result"
    }
   ],
   "source": [
    "x_train[0]"
   ]
  },
  {
   "cell_type": "markdown",
   "id": "e610ea66",
   "metadata": {
    "id": "e610ea66"
   },
   "source": [
    "## Flattening and Modeling"
   ]
  },
  {
   "cell_type": "markdown",
   "id": "46efba54",
   "metadata": {
    "id": "46efba54"
   },
   "source": [
    "each x_train is present in 2D array (i.e. 28 * 28) but to give input to the first layer of neural network we have to flatten 2D to 1D by keeping all row of 2D array side by side (i.e. 28 * 28=784)"
   ]
  },
  {
   "cell_type": "code",
   "execution_count": 13,
   "id": "8ba0ef61",
   "metadata": {
    "id": "8ba0ef61"
   },
   "outputs": [],
   "source": [
    "model = Sequential()"
   ]
  },
  {
   "cell_type": "code",
   "execution_count": 14,
   "id": "79edb7a6",
   "metadata": {
    "id": "79edb7a6"
   },
   "outputs": [],
   "source": [
    "model.add(Flatten(input_shape = (28,28)))          # it gives 784 input to the first layer"
   ]
  },
  {
   "cell_type": "code",
   "execution_count": 15,
   "id": "f4760e55",
   "metadata": {
    "id": "f4760e55"
   },
   "outputs": [],
   "source": [
    "model.add(Dense(128, activation = 'relu'))      # we take 128 nodes in the first layer and here we don't have to specify the number of input since it automatically takes input from flatten. relu activation function perform better than sigmoid\n",
    "model.add(Dense(32, activation = 'relu'))\n",
    "model.add(Dense(10, activation = 'softmax'))    # in multiclassification we always use softmax activation function at the output layer to have best performance"
   ]
  },
  {
   "cell_type": "code",
   "execution_count": 16,
   "id": "cde03133",
   "metadata": {
    "colab": {
     "base_uri": "https://localhost:8080/"
    },
    "id": "cde03133",
    "outputId": "fd3d7c08-7ad4-4628-8208-7a5270904e22"
   },
   "outputs": [
    {
     "name": "stdout",
     "output_type": "stream",
     "text": [
      "Model: \"sequential\"\n",
      "_________________________________________________________________\n",
      " Layer (type)                Output Shape              Param #   \n",
      "=================================================================\n",
      " flatten (Flatten)           (None, 784)               0         \n",
      "                                                                 \n",
      " dense (Dense)               (None, 128)               100480    \n",
      "                                                                 \n",
      " dense_1 (Dense)             (None, 32)                4128      \n",
      "                                                                 \n",
      " dense_2 (Dense)             (None, 10)                330       \n",
      "                                                                 \n",
      "=================================================================\n",
      "Total params: 104938 (409.91 KB)\n",
      "Trainable params: 104938 (409.91 KB)\n",
      "Non-trainable params: 0 (0.00 Byte)\n",
      "_________________________________________________________________\n"
     ]
    }
   ],
   "source": [
    "model.summary()"
   ]
  },
  {
   "attachments": {
    "2_BackPropagation_MNIST  (1).png": {
     "image/png": "[encoded data removed]"
    }
   },
   "cell_type": "markdown",
   "id": "181ad705",
   "metadata": {},
   "source": [
    "![2_BackPropagation_MNIST  (1).png](<attachment:2_BackPropagation_MNIST  (1).png>)"
   ]
  },
  {
   "cell_type": "code",
   "execution_count": 17,
   "id": "16fd48cc",
   "metadata": {
    "id": "16fd48cc"
   },
   "outputs": [],
   "source": [
    "model.compile(loss = 'sparse_categorical_crossentropy', optimizer = 'Adam', metrics = ['accuracy'])         # in sparse_categorical_crossentropy we don't have to do label encoding whereas in categorical_crossentropy we have to do label encoding manually"
   ]
  },
  {
   "cell_type": "markdown",
   "id": "007f7734",
   "metadata": {
    "id": "007f7734"
   },
   "source": [
    "// Note // In MultiClassification we always use Categorical Cross Entropy loss function (log loss function). We can also use Sparse Categorical Cross Entropy.\n",
    "\n",
    "And if the target column has nominal variable then we first apply encoding on it if Categorical Cross Entropy is used. If Sparse Categorical Cross Entropy is used then we assign integer value to the nominal data i.e. 1,2,3 and so on"
   ]
  },
  {
   "cell_type": "code",
   "execution_count": 18,
   "id": "3d316aa6",
   "metadata": {
    "colab": {
     "base_uri": "https://localhost:8080/"
    },
    "id": "3d316aa6",
    "outputId": "51bc37e1-f391-4b0f-d3ee-e3c2bb1afec2"
   },
   "outputs": [
    {
     "name": "stdout",
     "output_type": "stream",
     "text": [
      "Epoch 1/25\n",
      "1500/1500 [==============================] - 9s 6ms/step - loss: 0.2879 - accuracy: 0.9163 - val_loss: 0.1454 - val_accuracy: 0.9577\n",
      "Epoch 2/25\n",
      "1500/1500 [==============================] - 6s 4ms/step - loss: 0.1222 - accuracy: 0.9637 - val_loss: 0.1219 - val_accuracy: 0.9661\n",
      "Epoch 3/25\n",
      "1500/1500 [==============================] - 8s 5ms/step - loss: 0.0852 - accuracy: 0.9743 - val_loss: 0.1022 - val_accuracy: 0.9688\n",
      "Epoch 4/25\n",
      "1500/1500 [==============================] - 6s 4ms/step - loss: 0.0631 - accuracy: 0.9807 - val_loss: 0.0961 - val_accuracy: 0.9716\n",
      "Epoch 5/25\n",
      "1500/1500 [==============================] - 8s 5ms/step - loss: 0.0508 - accuracy: 0.9840 - val_loss: 0.1044 - val_accuracy: 0.9707\n",
      "Epoch 6/25\n",
      "1500/1500 [==============================] - 6s 4ms/step - loss: 0.0375 - accuracy: 0.9880 - val_loss: 0.1067 - val_accuracy: 0.9726\n",
      "Epoch 7/25\n",
      "1500/1500 [==============================] - 9s 6ms/step - loss: 0.0314 - accuracy: 0.9896 - val_loss: 0.1005 - val_accuracy: 0.9738\n",
      "Epoch 8/25\n",
      "1500/1500 [==============================] - 7s 5ms/step - loss: 0.0260 - accuracy: 0.9912 - val_loss: 0.1046 - val_accuracy: 0.9727\n",
      "Epoch 9/25\n",
      "1500/1500 [==============================] - 8s 5ms/step - loss: 0.0225 - accuracy: 0.9927 - val_loss: 0.1069 - val_accuracy: 0.9741\n",
      "Epoch 10/25\n",
      "1500/1500 [==============================] - 7s 5ms/step - loss: 0.0190 - accuracy: 0.9937 - val_loss: 0.1195 - val_accuracy: 0.9731\n",
      "Epoch 11/25\n",
      "1500/1500 [==============================] - 7s 5ms/step - loss: 0.0158 - accuracy: 0.9949 - val_loss: 0.1130 - val_accuracy: 0.9734\n",
      "Epoch 12/25\n",
      "1500/1500 [==============================] - 10s 7ms/step - loss: 0.0161 - accuracy: 0.9944 - val_loss: 0.1091 - val_accuracy: 0.9759\n",
      "Epoch 13/25\n",
      "1500/1500 [==============================] - 9s 6ms/step - loss: 0.0120 - accuracy: 0.9958 - val_loss: 0.1165 - val_accuracy: 0.9766\n",
      "Epoch 14/25\n",
      "1500/1500 [==============================] - 9s 6ms/step - loss: 0.0136 - accuracy: 0.9952 - val_loss: 0.1325 - val_accuracy: 0.9722\n",
      "Epoch 15/25\n",
      "1500/1500 [==============================] - 7s 4ms/step - loss: 0.0145 - accuracy: 0.9957 - val_loss: 0.1424 - val_accuracy: 0.9719\n",
      "Epoch 16/25\n",
      "1500/1500 [==============================] - 8s 5ms/step - loss: 0.0085 - accuracy: 0.9973 - val_loss: 0.1500 - val_accuracy: 0.9716\n",
      "Epoch 17/25\n",
      "1500/1500 [==============================] - 7s 5ms/step - loss: 0.0114 - accuracy: 0.9961 - val_loss: 0.1245 - val_accuracy: 0.9764\n",
      "Epoch 18/25\n",
      "1500/1500 [==============================] - 7s 5ms/step - loss: 0.0104 - accuracy: 0.9964 - val_loss: 0.1442 - val_accuracy: 0.9728\n",
      "Epoch 19/25\n",
      "1500/1500 [==============================] - 8s 5ms/step - loss: 0.0121 - accuracy: 0.9959 - val_loss: 0.1350 - val_accuracy: 0.9754\n",
      "Epoch 20/25\n",
      "1500/1500 [==============================] - 6s 4ms/step - loss: 0.0103 - accuracy: 0.9966 - val_loss: 0.1377 - val_accuracy: 0.9755\n",
      "Epoch 21/25\n",
      "1500/1500 [==============================] - 8s 5ms/step - loss: 0.0070 - accuracy: 0.9978 - val_loss: 0.1331 - val_accuracy: 0.9783\n",
      "Epoch 22/25\n",
      "1500/1500 [==============================] - 7s 4ms/step - loss: 0.0082 - accuracy: 0.9971 - val_loss: 0.1640 - val_accuracy: 0.9753\n",
      "Epoch 23/25\n",
      "1500/1500 [==============================] - 8s 5ms/step - loss: 0.0107 - accuracy: 0.9965 - val_loss: 0.1508 - val_accuracy: 0.9753\n",
      "Epoch 24/25\n",
      "1500/1500 [==============================] - 7s 4ms/step - loss: 0.0067 - accuracy: 0.9978 - val_loss: 0.1817 - val_accuracy: 0.9737\n",
      "Epoch 25/25\n",
      "1500/1500 [==============================] - 8s 5ms/step - loss: 0.0076 - accuracy: 0.9970 - val_loss: 0.1504 - val_accuracy: 0.9768\n"
     ]
    }
   ],
   "source": [
    "history = model.fit(x_train, y_train, epochs = 25, validation_split = 0.2)"
   ]
  },
  {
   "cell_type": "code",
   "execution_count": 19,
   "id": "43822189",
   "metadata": {
    "colab": {
     "base_uri": "https://localhost:8080/"
    },
    "id": "43822189",
    "outputId": "fa1de584-5bc4-401a-a707-4265cec7a66e"
   },
   "outputs": [
    {
     "data": {
      "text/plain": [
       "[array([[ 0.00817598, -0.00420343,  0.07898619, ..., -0.03076039,\n",
       "         -0.06678391, -0.02917757],\n",
       "        [ 0.05334985, -0.03194813, -0.05951693, ..., -0.02927892,\n",
       "          0.05864761, -0.0266458 ],\n",
       "        [ 0.04582096,  0.05313211, -0.03603033, ...,  0.06236146,\n",
       "          0.01655614,  0.05782823],\n",
       "        ...,\n",
       "        [ 0.02580226, -0.01996536, -0.00232326, ..., -0.00638228,\n",
       "          0.03090522, -0.07632798],\n",
       "        [-0.0318473 ,  0.07853397, -0.04604004, ...,  0.06545431,\n",
       "          0.07714293, -0.05908527],\n",
       "        [-0.04970388,  0.06875367, -0.08035555, ..., -0.01098363,\n",
       "          0.03160448, -0.0207476 ]], dtype=float32),\n",
       " array([-0.00922861,  0.14816704,  0.01173748, -0.09309939,  0.03549602,\n",
       "        -0.022795  , -0.13239652,  0.08635385,  0.00156462, -0.04328974,\n",
       "         0.0799754 ,  0.00709992, -0.12488586,  0.02898419,  0.2428262 ,\n",
       "         0.10365076,  0.03919788,  0.01655071, -0.13380396,  0.13273352,\n",
       "         0.20826745, -0.04540897, -0.0791167 ,  0.09634803, -0.09521922,\n",
       "         0.23623748, -0.03548002,  0.03326293,  0.08254313, -0.0796364 ,\n",
       "         0.04842493,  0.00706757, -0.04671804, -0.05481869, -0.00458476,\n",
       "         0.15235612, -0.10208967, -0.05895256,  0.2631188 ,  0.06486087,\n",
       "        -0.26154155, -0.00137379, -0.05448164,  0.23020373,  0.15790279,\n",
       "         0.06177211,  0.09032887, -0.03695621,  0.064487  , -0.11702229,\n",
       "        -0.04018186, -0.04643003,  0.01829639, -0.02439507,  0.11157791,\n",
       "         0.01631529,  0.06607009, -0.02623957,  0.10886555, -0.00119797,\n",
       "         0.21956107, -0.21550843, -0.15044114, -0.153261  , -0.18339065,\n",
       "        -0.12873933,  0.20521022, -0.12028462, -0.23575157,  0.15562248,\n",
       "         0.00247253, -0.12206738,  0.12917963, -0.16727525,  0.09581207,\n",
       "        -0.03885249,  0.05725835, -0.01905056,  0.04903368, -0.05256495,\n",
       "         0.0015331 , -0.05088969, -0.02970338,  0.05016091, -0.0208751 ,\n",
       "         0.02894665,  0.08659773, -0.00316445,  0.07575722, -0.0286273 ,\n",
       "        -0.08238166, -0.03584426,  0.08347672, -0.02620838, -0.12951414,\n",
       "        -0.18240763, -0.04059262, -0.29482904,  0.18442917,  0.19543006,\n",
       "        -0.0868893 ,  0.17957993, -0.00309139, -0.00279672,  0.01940802,\n",
       "         0.07137014, -0.02211525, -0.21798556,  0.37196007,  0.10147272,\n",
       "        -0.30202013, -0.13289033,  0.09266397,  0.14740492,  0.00191049,\n",
       "         0.37236547,  0.21611497,  0.04715969,  0.02459885,  0.05722881,\n",
       "        -0.10503321, -0.00660276, -0.02073113, -0.2007502 , -0.08735254,\n",
       "        -0.00359118, -0.07801174, -0.07193246], dtype=float32)]"
      ]
     },
     "execution_count": 19,
     "metadata": {},
     "output_type": "execute_result"
    }
   ],
   "source": [
    "model.layers[1].get_weights()"
   ]
  },
  {
   "cell_type": "code",
   "execution_count": 20,
   "id": "ff8335a1",
   "metadata": {
    "colab": {
     "base_uri": "https://localhost:8080/"
    },
    "id": "ff8335a1",
    "outputId": "e412775a-3613-4bb0-a4b7-598a9b4de030"
   },
   "outputs": [
    {
     "data": {
      "text/plain": [
       "[array([[ 0.08734832, -0.53194666,  0.04081353, ...,  0.05726387,\n",
       "          0.21893245, -0.18510205],\n",
       "        [-0.215839  ,  0.12791269,  0.07549186, ...,  0.06969226,\n",
       "          0.41728237,  0.01910041],\n",
       "        [ 0.28120348,  0.19176283, -0.23709355, ...,  0.1276285 ,\n",
       "         -0.47400555,  0.18648982],\n",
       "        ...,\n",
       "        [-0.08189435, -0.26020736,  0.21705088, ..., -0.03683697,\n",
       "          0.16501075, -0.3052206 ],\n",
       "        [ 0.31933174, -0.01876882, -0.46994996, ..., -0.25193784,\n",
       "         -0.01705559,  0.5556044 ],\n",
       "        [ 0.32205975,  0.23978932, -0.10564729, ..., -0.4634777 ,\n",
       "         -0.42177176,  0.0262615 ]], dtype=float32),\n",
       " array([-0.06912411, -0.09401127,  0.15223089,  0.02065012,  0.39438668,\n",
       "        -0.30174023,  0.35026813, -0.11517508, -0.12181218, -0.15609653,\n",
       "         0.05756444,  0.24284032,  0.33698264,  0.30165553,  0.13215064,\n",
       "         0.21130322,  0.04005711, -0.23736635,  0.04506448, -0.1199405 ,\n",
       "         0.00097173, -0.04374302, -0.02540526,  0.21565127, -0.1315458 ,\n",
       "         0.17731678,  0.12372838, -0.04851421,  0.07648069,  0.11446381,\n",
       "         0.4126606 , -0.02686654], dtype=float32)]"
      ]
     },
     "execution_count": 20,
     "metadata": {},
     "output_type": "execute_result"
    }
   ],
   "source": [
    "model.layers[2].get_weights()"
   ]
  },
  {
   "cell_type": "code",
   "execution_count": 21,
   "id": "09448d15",
   "metadata": {
    "colab": {
     "base_uri": "https://localhost:8080/"
    },
    "id": "09448d15",
    "outputId": "448bf3ed-ae0f-45e4-c541-636685146dfa"
   },
   "outputs": [
    {
     "data": {
      "text/plain": [
       "[array([[ 0.09707496,  0.641519  , -0.46861044, -0.7152298 ,  0.6123722 ,\n",
       "          0.2562797 , -0.09701286,  0.5254716 , -0.28465593, -0.3751838 ],\n",
       "        [-0.25511393, -0.54894733,  0.4447033 , -0.636364  ,  0.00196882,\n",
       "         -0.46549916, -0.1208555 ,  0.5848997 , -0.608928  , -0.35598668],\n",
       "        [-0.31782496, -0.42359266, -0.3244448 ,  0.36989984, -0.64205843,\n",
       "          0.15257324, -0.6175436 , -0.18386865,  0.32760116,  0.4259512 ],\n",
       "        [ 0.15366054,  0.24477339, -0.07217812, -0.48122433,  0.6301134 ,\n",
       "         -0.4122957 , -0.74573714, -0.7449928 , -0.38402027,  0.24106105],\n",
       "        [-0.64742225, -0.7579018 , -0.11876815, -0.44536877, -0.20716321,\n",
       "          0.21303254, -0.14242166, -0.26376998,  0.52478665,  0.18307166],\n",
       "        [ 0.50031906,  0.335939  ,  0.39609066, -0.17818323, -0.4949943 ,\n",
       "         -0.49619663,  0.46339247,  0.13943969, -0.4875997 , -0.5494081 ],\n",
       "        [-0.3668453 , -0.34675243, -0.6708214 ,  0.20352118,  0.11041632,\n",
       "          0.45882586,  0.07329289,  0.30443344,  0.20842686, -0.0308964 ],\n",
       "        [ 0.10096996, -0.1426524 ,  0.16935933,  0.03466743,  0.4089557 ,\n",
       "          0.18697444,  0.42669252, -0.82371306, -0.4028812 ,  0.06380218],\n",
       "        [-0.4400099 , -0.10278787, -0.5027816 , -0.08285564, -0.64656144,\n",
       "         -0.5259307 , -0.3885164 ,  0.35635322, -0.24221101,  0.6586443 ],\n",
       "        [-0.56100637, -0.22721198, -0.23595044,  0.565515  , -0.44139192,\n",
       "         -0.26450545, -1.0895817 ,  0.34202906, -0.4344592 ,  0.42808005],\n",
       "        [ 0.43210927, -0.44994628,  0.34094223, -0.48722583, -0.36174262,\n",
       "         -0.50581414,  0.4920815 ,  0.16369894,  0.07282329, -0.12648278],\n",
       "        [-0.42744666, -0.53545564,  0.29239607,  0.48375314, -0.3535939 ,\n",
       "          0.04240235, -0.22205111, -0.6103779 ,  0.0272187 ,  0.03012235],\n",
       "        [ 0.16033636, -0.04520502, -0.6688102 ,  0.23387733,  0.49957955,\n",
       "         -0.27087536,  0.411887  , -0.26730636,  0.34855616,  0.2739826 ],\n",
       "        [-0.02128913, -0.01141119, -0.39354473,  0.05405477, -0.53004843,\n",
       "          0.4505895 ,  0.0869648 ,  0.17655584,  0.33759382,  0.03078851],\n",
       "        [ 0.55874693, -0.6070466 ,  0.26822326, -0.37862703, -0.48604676,\n",
       "         -0.5317709 , -0.13465369, -0.1380685 ,  0.48114267,  0.02501575],\n",
       "        [-0.47452277,  0.21967606,  0.21250121, -0.01158885, -0.16864006,\n",
       "         -0.21519296,  0.42061397, -0.35596856,  0.32149172, -0.3299422 ],\n",
       "        [-0.15961635, -0.8078179 ,  0.00466608, -0.32341844, -0.09694164,\n",
       "         -0.12880348,  0.7574069 , -0.3265535 , -0.15337859, -0.4334536 ],\n",
       "        [ 0.12986153, -0.04109495,  0.34981123,  0.32342178, -0.4339427 ,\n",
       "          0.22501467, -0.66913486,  0.36334953, -0.5347261 , -0.09672105],\n",
       "        [ 0.15910874,  0.10172924, -0.49332425, -0.10052696, -0.7425904 ,\n",
       "          0.5051745 , -0.01791552, -0.13980566, -0.23960736, -0.05884808],\n",
       "        [-0.7301516 ,  0.6653369 ,  0.46828347,  0.41097757, -0.7014616 ,\n",
       "          0.20504503, -0.07426883,  0.0911094 , -0.1100058 , -0.12442631],\n",
       "        [-0.05458625,  0.23741978, -0.59974676, -0.3915596 , -0.2677221 ,\n",
       "         -0.14276518, -0.43568176, -0.05011792,  0.26958054, -0.29309317],\n",
       "        [ 0.00582741,  0.55354387,  0.38465372,  0.11588961, -0.37971285,\n",
       "         -0.30434498, -1.0430086 ,  0.4527329 ,  0.22239517,  0.28368038],\n",
       "        [-0.98243755,  0.34449008,  0.27082166, -0.49682456,  0.3724619 ,\n",
       "          0.2761576 , -0.46814564, -0.28314075, -0.39104167,  0.25668764],\n",
       "        [-0.54128087,  0.3857312 ,  0.34880283,  0.06776843, -0.08269743,\n",
       "         -0.49295488, -0.3518419 ,  0.30484203,  0.41283825, -0.7139915 ],\n",
       "        [ 0.20962922,  0.49782398, -0.5145185 ,  0.21604231, -0.52436525,\n",
       "          0.5404482 ,  0.42765212,  0.06669082, -0.65971744, -0.30825895],\n",
       "        [ 0.1480431 , -0.27466172,  0.29886562,  0.36725512,  0.09678354,\n",
       "         -0.52129716, -0.7992573 ,  0.04539538,  0.12813471,  0.07169004],\n",
       "        [ 0.28257814, -0.1727618 , -0.5231231 ,  0.45661813, -0.19973984,\n",
       "          0.14534815,  0.03851168, -0.26822785,  0.09263951, -0.20758668],\n",
       "        [-0.31376526, -0.52908456, -0.27399382,  0.41433746, -0.09445231,\n",
       "          0.16315968,  0.22431915, -0.6070531 , -0.16131829, -0.342814  ],\n",
       "        [ 0.51136   ,  0.2859047 ,  0.07596371, -0.252289  , -1.02434   ,\n",
       "          0.15853903,  0.2771409 , -0.5245141 ,  0.06180056, -0.2207867 ],\n",
       "        [-0.24388355,  0.33201724, -0.71924716, -0.07635374,  0.30918142,\n",
       "         -0.10528224, -0.02421974, -0.13761535,  0.13394207,  0.37864208],\n",
       "        [ 0.3923029 , -0.4115448 , -0.06663642, -0.2623337 , -0.4353537 ,\n",
       "          0.14440703, -0.2521711 , -0.37476614,  0.4087468 ,  0.12664771],\n",
       "        [ 0.29756522, -0.5618688 , -0.08702843, -0.53201133,  0.27104527,\n",
       "         -0.66209656, -0.49709487,  0.36924613, -0.4496666 ,  0.22013845]],\n",
       "       dtype=float32),\n",
       " array([-0.10597526, -0.36402446, -0.09465299, -0.00662535,  0.16054626,\n",
       "         0.1300815 , -0.04804693, -0.17984766,  0.4464406 , -0.1354801 ],\n",
       "       dtype=float32)]"
      ]
     },
     "execution_count": 21,
     "metadata": {},
     "output_type": "execute_result"
    }
   ],
   "source": [
    "model.layers[3].get_weights()"
   ]
  },
  {
   "cell_type": "code",
   "execution_count": 22,
   "id": "8a5f5df8",
   "metadata": {
    "colab": {
     "base_uri": "https://localhost:8080/"
    },
    "id": "8a5f5df8",
    "outputId": "37c6fd09-8863-4270-c676-2cb4f275f179"
   },
   "outputs": [
    {
     "name": "stdout",
     "output_type": "stream",
     "text": [
      "313/313 [==============================] - 1s 2ms/step\n"
     ]
    },
    {
     "data": {
      "text/plain": [
       "array([[3.9755800e-19, 1.2519385e-15, 2.2566544e-10, ..., 9.9999994e-01,\n",
       "        5.3370613e-22, 1.0850395e-13],\n",
       "       [1.2140141e-21, 1.2774922e-09, 9.9999994e-01, ..., 3.1495632e-20,\n",
       "        1.0246308e-18, 3.0875991e-26],\n",
       "       [4.5079624e-11, 9.9999720e-01, 2.4025771e-06, ..., 3.1512039e-07,\n",
       "        7.5137265e-09, 5.3515992e-16],\n",
       "       ...,\n",
       "       [2.6900865e-17, 3.9623188e-18, 2.0114274e-23, ..., 6.0821376e-20,\n",
       "        1.2437966e-18, 2.2222307e-11],\n",
       "       [3.1176596e-27, 9.0517384e-23, 4.1183621e-36, ..., 6.2455481e-19,\n",
       "        3.9675603e-14, 2.1808648e-20],\n",
       "       [2.8659972e-17, 9.2357832e-26, 9.4982444e-21, ..., 2.3731383e-35,\n",
       "        1.6353154e-24, 9.4795572e-23]], dtype=float32)"
      ]
     },
     "execution_count": 22,
     "metadata": {},
     "output_type": "execute_result"
    }
   ],
   "source": [
    "y_prob = model.predict(x_test)\n",
    "y_prob"
   ]
  },
  {
   "cell_type": "markdown",
   "id": "c055165f",
   "metadata": {
    "id": "c055165f"
   },
   "source": [
    "it gives the probability for each number from 0 to 9 and for 10,000 images"
   ]
  },
  {
   "cell_type": "markdown",
   "id": "30b68c11",
   "metadata": {
    "id": "30b68c11"
   },
   "source": [
    "but we have to show the actual number between 0 to 9 in the output and for this we have to find the index position of highest probability for each images and this index position is itself is the y_pred"
   ]
  },
  {
   "cell_type": "code",
   "execution_count": 23,
   "id": "35c40e5a",
   "metadata": {
    "colab": {
     "base_uri": "https://localhost:8080/"
    },
    "id": "35c40e5a",
    "outputId": "e3d07336-b6ca-468d-882f-2ae4f29862b7"
   },
   "outputs": [
    {
     "data": {
      "text/plain": [
       "array([7, 2, 1, ..., 4, 5, 6])"
      ]
     },
     "execution_count": 23,
     "metadata": {},
     "output_type": "execute_result"
    }
   ],
   "source": [
    "y_pred = y_prob.argmax(axis=1)\n",
    "y_pred"
   ]
  },
  {
   "cell_type": "markdown",
   "id": "99cdfc95",
   "metadata": {
    "id": "99cdfc95"
   },
   "source": [
    "this shows that our first image is 7, second image is 2 and so on..."
   ]
  },
  {
   "cell_type": "code",
   "execution_count": 24,
   "id": "46ddcca3",
   "metadata": {
    "id": "46ddcca3"
   },
   "outputs": [],
   "source": [
    "from sklearn.metrics import accuracy_score"
   ]
  },
  {
   "cell_type": "code",
   "execution_count": 25,
   "id": "e82b1b09",
   "metadata": {
    "colab": {
     "base_uri": "https://localhost:8080/"
    },
    "id": "e82b1b09",
    "outputId": "b784c5c6-edb9-4279-b8bc-bcda799f5ca4"
   },
   "outputs": [
    {
     "data": {
      "text/plain": [
       "0.9785"
      ]
     },
     "execution_count": 25,
     "metadata": {},
     "output_type": "execute_result"
    }
   ],
   "source": [
    "accuracy_score(y_test, y_pred)"
   ]
  },
  {
   "cell_type": "code",
   "execution_count": 26,
   "id": "b0bacf1d",
   "metadata": {
    "id": "b0bacf1d"
   },
   "outputs": [],
   "source": [
    "import matplotlib.pyplot as plt"
   ]
  },
  {
   "cell_type": "code",
   "execution_count": 27,
   "id": "cfc2a082",
   "metadata": {
    "colab": {
     "base_uri": "https://localhost:8080/"
    },
    "id": "cfc2a082",
    "outputId": "5945ec4d-d590-4f5c-ee06-38902f52c406"
   },
   "outputs": [
    {
     "data": {
      "text/plain": [
       "{'loss': [0.28793829679489136,\n",
       "  0.12219864875078201,\n",
       "  0.08519649505615234,\n",
       "  0.06314826756715775,\n",
       "  0.050782252103090286,\n",
       "  0.03749304637312889,\n",
       "  0.03143797069787979,\n",
       "  0.026036720722913742,\n",
       "  0.02251853607594967,\n",
       "  0.01901300437748432,\n",
       "  0.01584254950284958,\n",
       "  0.016088740900158882,\n",
       "  0.01200936920940876,\n",
       "  0.013558555394411087,\n",
       "  0.01445722859352827,\n",
       "  0.008496512658894062,\n",
       "  0.011389456689357758,\n",
       "  0.010446537286043167,\n",
       "  0.01206668559461832,\n",
       "  0.01029191818088293,\n",
       "  0.00699565839022398,\n",
       "  0.008186866529285908,\n",
       "  0.010676532983779907,\n",
       "  0.006726745516061783,\n",
       "  0.0076280576176941395],\n",
       " 'accuracy': [0.9163333177566528,\n",
       "  0.9636874794960022,\n",
       "  0.9743333458900452,\n",
       "  0.9806874990463257,\n",
       "  0.984041690826416,\n",
       "  0.9880208373069763,\n",
       "  0.9895625114440918,\n",
       "  0.9911666512489319,\n",
       "  0.9926666617393494,\n",
       "  0.9937499761581421,\n",
       "  0.9948541522026062,\n",
       "  0.9943749904632568,\n",
       "  0.9957500100135803,\n",
       "  0.995229184627533,\n",
       "  0.9956874847412109,\n",
       "  0.9972916841506958,\n",
       "  0.9960833191871643,\n",
       "  0.9964374899864197,\n",
       "  0.9959166646003723,\n",
       "  0.9965624809265137,\n",
       "  0.9978125095367432,\n",
       "  0.9971250295639038,\n",
       "  0.9965416789054871,\n",
       "  0.9978125095367432,\n",
       "  0.997041642665863],\n",
       " 'val_loss': [0.14535526931285858,\n",
       "  0.12189343571662903,\n",
       "  0.10219044238328934,\n",
       "  0.09606621414422989,\n",
       "  0.10442034900188446,\n",
       "  0.10666942596435547,\n",
       "  0.10045423358678818,\n",
       "  0.10457132756710052,\n",
       "  0.10687758028507233,\n",
       "  0.11946532130241394,\n",
       "  0.11302126199007034,\n",
       "  0.10912684351205826,\n",
       "  0.11645808815956116,\n",
       "  0.13252517580986023,\n",
       "  0.14239740371704102,\n",
       "  0.14996133744716644,\n",
       "  0.12453700602054596,\n",
       "  0.14422458410263062,\n",
       "  0.1350017637014389,\n",
       "  0.13767530024051666,\n",
       "  0.13314157724380493,\n",
       "  0.16400405764579773,\n",
       "  0.1507585495710373,\n",
       "  0.181722030043602,\n",
       "  0.1504313051700592],\n",
       " 'val_accuracy': [0.9576666951179504,\n",
       "  0.9660833477973938,\n",
       "  0.968833327293396,\n",
       "  0.9715833067893982,\n",
       "  0.9707499742507935,\n",
       "  0.9725833535194397,\n",
       "  0.9738333225250244,\n",
       "  0.9726666808128357,\n",
       "  0.9740833044052124,\n",
       "  0.9730833172798157,\n",
       "  0.9734166860580444,\n",
       "  0.9759166836738586,\n",
       "  0.9765833616256714,\n",
       "  0.9721666574478149,\n",
       "  0.971916675567627,\n",
       "  0.9715833067893982,\n",
       "  0.9764166474342346,\n",
       "  0.9728333353996277,\n",
       "  0.9754166603088379,\n",
       "  0.9754999876022339,\n",
       "  0.9783333539962769,\n",
       "  0.9753333330154419,\n",
       "  0.9752500057220459,\n",
       "  0.9736666679382324,\n",
       "  0.9767500162124634]}"
      ]
     },
     "execution_count": 27,
     "metadata": {},
     "output_type": "execute_result"
    }
   ],
   "source": [
    "history.history"
   ]
  },
  {
   "cell_type": "code",
   "execution_count": 45,
   "id": "8ce6116b",
   "metadata": {
    "colab": {
     "base_uri": "https://localhost:8080/",
     "height": 469
    },
    "id": "8ce6116b",
    "outputId": "73acada8-433b-4f35-a403-dd863886ec09"
   },
   "outputs": [
    {
     "data": {
      "text/plain": [
       "Text(0.5, 1.0, 'FIG.02 loss reduces while going from 1 to 25 epochs')"
      ]
     },
     "execution_count": 45,
     "metadata": {},
     "output_type": "execute_result"
    },
    {
     "data": {
      "image/png": "[encoded data removed]",
      "text/plain": [
       "<Figure size 640x480 with 1 Axes>"
      ]
     },
     "metadata": {},
     "output_type": "display_data"
    }
   ],
   "source": [
    "plt.plot(history.history['loss'])    # it gives how our training loss reduces while going from 1 to 25 epochs\n",
    "plt.plot(history.history['val_loss'])\n",
    "plt.title('FIG.02 loss reduces while going from 1 to 25 epochs')"
   ]
  },
  {
   "cell_type": "code",
   "execution_count": 46,
   "id": "2a5eb9f0",
   "metadata": {
    "colab": {
     "base_uri": "https://localhost:8080/",
     "height": 469
    },
    "id": "2a5eb9f0",
    "outputId": "6090ef0e-7cb1-4a7a-8fd3-8ff005b5319d"
   },
   "outputs": [
    {
     "data": {
      "text/plain": [
       "Text(0.5, 1.0, 'FIG.03 accuracy increase while going from 1 to 25 epochs')"
      ]
     },
     "execution_count": 46,
     "metadata": {},
     "output_type": "execute_result"
    },
    {
     "data": {
      "image/png": "[encoded data removed]",
      "text/plain": [
       "<Figure size 640x480 with 1 Axes>"
      ]
     },
     "metadata": {},
     "output_type": "display_data"
    }
   ],
   "source": [
    "plt.plot(history.history['accuracy'])    # it gives how our training accuracy increases while going from 1 to 25 epochs\n",
    "plt.plot(history.history['val_accuracy'])\n",
    "plt.title('FIG.03 accuracy increase while going from 1 to 25 epochs')"
   ]
  },
  {
   "cell_type": "markdown",
   "id": "17efac6b",
   "metadata": {
    "id": "17efac6b"
   },
   "source": [
    "from the graph we can see that the increasing of accuracy for both train and test data deviate somewhat and so there is small chances of overfitting."
   ]
  },
  {
   "cell_type": "code",
   "execution_count": 30,
   "id": "a4e10416",
   "metadata": {
    "colab": {
     "base_uri": "https://localhost:8080/"
    },
    "id": "a4e10416",
    "outputId": "630f4d0d-5b25-4bb3-adc1-62517e885e03"
   },
   "outputs": [
    {
     "data": {
      "text/plain": [
       "7"
      ]
     },
     "execution_count": 30,
     "metadata": {},
     "output_type": "execute_result"
    }
   ],
   "source": [
    "y_test[0]"
   ]
  },
  {
   "cell_type": "markdown",
   "id": "d80f60df",
   "metadata": {
    "id": "d80f60df"
   },
   "source": [
    "OR"
   ]
  },
  {
   "cell_type": "code",
   "execution_count": 47,
   "id": "849bb203",
   "metadata": {
    "colab": {
     "base_uri": "https://localhost:8080/",
     "height": 469
    },
    "id": "849bb203",
    "outputId": "8cd9d6fd-f844-4206-a405-7928731e6f5e"
   },
   "outputs": [
    {
     "data": {
      "text/plain": [
       "Text(0.5, 1.0, 'FIG.04 test image')"
      ]
     },
     "execution_count": 47,
     "metadata": {},
     "output_type": "execute_result"
    },
    {
     "data": {
      "image/png": "[encoded data removed]",
      "text/plain": [
       "<Figure size 640x480 with 1 Axes>"
      ]
     },
     "metadata": {},
     "output_type": "display_data"
    }
   ],
   "source": [
    "plt.imshow(x_test[0])\n",
    "plt.title('FIG.04 test image')"
   ]
  },
  {
   "cell_type": "code",
   "execution_count": 34,
   "id": "c53937f5",
   "metadata": {
    "colab": {
     "base_uri": "https://localhost:8080/"
    },
    "id": "c53937f5",
    "outputId": "ad8365c7-f9c2-4083-fae6-9775d33dd36d"
   },
   "outputs": [
    {
     "name": "stdout",
     "output_type": "stream",
     "text": [
      "1/1 [==============================] - 0s 73ms/step\n",
      "Prediction: [[3.9755952e-19 1.2519339e-15 2.2566546e-10 2.1057644e-15 3.8325680e-25\n",
      "  4.0134072e-23 3.2569657e-33 1.0000000e+00 5.3370411e-22 1.0850437e-13]]\n"
     ]
    }
   ],
   "source": [
    "#`x_test[0]` is a 28x28 image\n",
    "# Flatten the image to create a 1D array of 784 elements\n",
    "input_data = x_test[0].flatten()\n",
    "\n",
    "# Add a batch dimension (model expects (batch_size, input_features))\n",
    "input_data = np.expand_dims(input_data, axis=0)\n",
    "\n",
    "# Make a prediction\n",
    "prediction = model.predict(input_data)\n",
    "\n",
    "print(\"Prediction:\", prediction)\n"
   ]
  },
  {
   "cell_type": "markdown",
   "id": "b9a17ac5",
   "metadata": {
    "id": "b9a17ac5"
   },
   "source": [
    "this shows that we are getting correct output and so our model is working fine"
   ]
  },
  {
   "cell_type": "markdown",
   "id": "cwNPZS-n7rdo",
   "metadata": {
    "id": "cwNPZS-n7rdo"
   },
   "source": [
    "## Confusion Matrix:"
   ]
  },
  {
   "cell_type": "code",
   "execution_count": 48,
   "id": "CQY69qgH7nz_",
   "metadata": {
    "colab": {
     "base_uri": "https://localhost:8080/",
     "height": 641
    },
    "id": "CQY69qgH7nz_",
    "outputId": "5613f20c-4195-406e-ebb9-cddeb461c19b"
   },
   "outputs": [
    {
     "data": {
      "image/png": "[encoded data removed]",
      "text/plain": [
       "<Figure size 1000x700 with 2 Axes>"
      ]
     },
     "metadata": {},
     "output_type": "display_data"
    }
   ],
   "source": [
    "from sklearn.metrics import confusion_matrix\n",
    "import seaborn as sns\n",
    "import matplotlib.pyplot as plt\n",
    "\n",
    "cm = confusion_matrix(y_test, y_pred)\n",
    "plt.figure(figsize=(10, 7))\n",
    "sns.heatmap(cm, annot=True, fmt=\"d\", cmap='Blues')\n",
    "plt.xlabel('Predicted')\n",
    "plt.ylabel('True')\n",
    "plt.title('FIG.05 Confusion Matrix')\n",
    "plt.show()"
   ]
  },
  {
   "cell_type": "markdown",
   "id": "lipEgti28L6A",
   "metadata": {
    "id": "lipEgti28L6A"
   },
   "source": [
    "## Error Analysis:"
   ]
  },
  {
   "cell_type": "code",
   "execution_count": 49,
   "id": "yPwiNvMp8NTm",
   "metadata": {
    "colab": {
     "base_uri": "https://localhost:8080/",
     "height": 554
    },
    "id": "yPwiNvMp8NTm",
    "outputId": "f74c3ce5-ee42-4474-b7aa-222ea41d649c"
   },
   "outputs": [
    {
     "data": {
      "image/png": "[encoded data removed]",
      "text/plain": [
       "<Figure size 1500x600 with 10 Axes>"
      ]
     },
     "metadata": {},
     "output_type": "display_data"
    }
   ],
   "source": [
    "import numpy as np\n",
    "\n",
    "incorrects = np.nonzero(y_pred.reshape((-1,)) != y_test)\n",
    "fig, ax = plt.subplots(2, 5, figsize=(15, 6))\n",
    "fig.suptitle('FIG.06 Incorrectly Classified Images', fontsize=16)\n",
    "for i, incorrect in enumerate(incorrects[0][:10]):\n",
    "    ax[i//5, i%5].imshow(x_test[incorrect].reshape(28, 28), cmap='gray', interpolation='none')\n",
    "    ax[i//5, i%5].set_title(f\"Predicted: {y_pred[incorrect]}, True: {y_test[incorrect]}\")\n",
    "    ax[i//5, i%5].axis('off')\n",
    "plt.show()\n"
   ]
  },
  {
   "cell_type": "code",
   "execution_count": 42,
   "id": "6PHjzMKD9U-R",
   "metadata": {
    "colab": {
     "base_uri": "https://localhost:8080/"
    },
    "id": "6PHjzMKD9U-R",
    "outputId": "e14268fe-800d-4992-bbc4-a7adbbcdf0e5"
   },
   "outputs": [
    {
     "name": "stdout",
     "output_type": "stream",
     "text": [
      "Model saved successfully!\n"
     ]
    },
    {
     "name": "stderr",
     "output_type": "stream",
     "text": [
      "/usr/local/lib/python3.10/dist-packages/keras/src/engine/training.py:3103: UserWarning: You are saving your model as an HDF5 file via `model.save()`. This file format is considered legacy. We recommend using instead the native Keras format, e.g. `model.save('my_model.keras')`.\n",
      "  saving_api.save_model(\n"
     ]
    }
   ],
   "source": [
    "model.save('mnist_model.h5')\n",
    "print(\"Model saved successfully!\")\n"
   ]
  }
 ],
 "metadata": {
  "colab": {
   "provenance": []
  },
  "kernelspec": {
   "display_name": "Python 3 (ipykernel)",
   "language": "python",
   "name": "python3"
  },
  "language_info": {
   "codemirror_mode": {
    "name": "ipython",
    "version": 3
   },
   "file_extension": ".py",
   "mimetype": "text/x-python",
   "name": "python",
   "nbconvert_exporter": "python",
   "pygments_lexer": "ipython3",
   "version": "3.12.3"
  }
 },
 "nbformat": 4,
 "nbformat_minor": 5
}
